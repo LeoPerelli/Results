{
 "cells": [
  {
   "cell_type": "code",
   "execution_count": 28,
   "metadata": {},
   "outputs": [],
   "source": [
    "import pandas as pd\n",
    "import pickle as p\n",
    "import numpy as np\n",
    "import csv"
   ]
  },
  {
   "cell_type": "code",
   "execution_count": 32,
   "metadata": {
    "scrolled": false
   },
   "outputs": [
    {
     "name": "stdout",
     "output_type": "stream",
     "text": [
      "['track_id', ' type', ' traveled_d', ' avg_speed', ' lat', ' lon', ' speed', ' lon_acc', ' lat_acc', ' time']\n",
      "1, 101, 201, 301, 401, 501, 601, 701, 801, 901, 1001, 1101, 1201, 1301, 1401, 1501, 1601, 1701, 1801, 1901, 2001, 2101, 2201, 2301, "
     ]
    }
   ],
   "source": [
    "meta_dfs = []\n",
    "trace_dfs = []\n",
    "path = \"C:/Users/Hamidreza/Dropbox/UAS4T/competition_dataset/\"\n",
    "\n",
    "with open(path+'competition_dataset.csv', newline='') as csvfile:\n",
    "    spamreader = csv.reader(csvfile, delimiter=';')\n",
    "    print(spamreader.__next__())\n",
    "    for row in spamreader:\n",
    "    #for i in [1]:\n",
    "       # row = spamreader.__next__()\n",
    "        meta_dfs.append(pd.DataFrame({'track_id': [int(row[0])],'type': [row[1]],'traveled_distance': [float(row[2])],\n",
    "                                      'avg_speed': [float(row[3])]}))\n",
    "        if int(row[0])%100==1:\n",
    "            print(row[0],end=', ')\n",
    "        n = len(row) - 5\n",
    "        track_ids = np.array([[row[0] for _ in range(int(n/6))]])\n",
    "        points = np.reshape(row[4:-1],(-1,6)).astype(np.float)\n",
    "        points = np.concatenate((track_ids.T.astype(np.int),points), axis=1)\n",
    "        trace_dfs.append(pd.DataFrame(points, columns=['track_id','lat','lon','speed','lon_accel','lat_accel','time']))\n",
    "        #for i in idx:\n",
    "            #point_dfs.append(pd.DataFrame({'track_id': [row[0]],'lat': [row[i]], 'lon': [row[i+1]],\n",
    "                                       #    'speed': [row[i+2]], 'tan_accel': [row[i+3]], 'lat_accel': [row[i+4]],\n",
    "                                        #   'time': [row[i+5]]}))\n",
    "        #trace_dfs.append(pd.concat(point_dfs))\n",
    "        #print(len(row))\n",
    "meta_df = pd.concat(meta_dfs)\n",
    "trace_df = pd.concat(trace_dfs)"
   ]
  },
  {
   "cell_type": "code",
   "execution_count": 30,
   "metadata": {},
   "outputs": [],
   "source": [
    "with open('pneuma_competition_dataset.p', 'wb') as f:\n",
    "    p.dump([meta_df,trace_df],f)"
   ]
  }
 ],
 "metadata": {
  "kernelspec": {
   "display_name": "Python 3",
   "language": "python",
   "name": "python3"
  },
  "language_info": {
   "codemirror_mode": {
    "name": "ipython",
    "version": 3
   },
   "file_extension": ".py",
   "mimetype": "text/x-python",
   "name": "python",
   "nbconvert_exporter": "python",
   "pygments_lexer": "ipython3",
   "version": "3.6.9"
  },
  "latex_envs": {
   "LaTeX_envs_menu_present": false,
   "autoclose": true,
   "autocomplete": false,
   "bibliofile": "biblio.bib",
   "cite_by": "apalike",
   "current_citInitial": 1,
   "eqLabelWithNumbers": true,
   "eqNumInitial": 1,
   "hotkeys": {
    "equation": "Ctrl-E",
    "itemize": "Ctrl-I"
   },
   "labels_anchors": false,
   "latex_user_defs": false,
   "report_style_numbering": false,
   "user_envs_cfg": false
  },
  "varInspector": {
   "cols": {
    "lenName": 16,
    "lenType": 16,
    "lenVar": 40
   },
   "kernels_config": {
    "python": {
     "delete_cmd_postfix": "",
     "delete_cmd_prefix": "del ",
     "library": "var_list.py",
     "varRefreshCmd": "print(var_dic_list())"
    },
    "r": {
     "delete_cmd_postfix": ") ",
     "delete_cmd_prefix": "rm(",
     "library": "var_list.r",
     "varRefreshCmd": "cat(var_dic_list()) "
    }
   },
   "types_to_exclude": [
    "module",
    "function",
    "builtin_function_or_method",
    "instance",
    "_Feature"
   ],
   "window_display": false
  }
 },
 "nbformat": 4,
 "nbformat_minor": 4
}
