{
 "cells": [
  {
   "cell_type": "code",
   "execution_count": null,
   "metadata": {},
   "outputs": [],
   "source": [
    "# This code is compatible with python 3.6\n",
    "!pip install numpy\n",
    "!pip install XlsxWriter\n",
    "!pip install pandas\n",
    "!pip install coordinates-converter"
   ]
  },
  {
   "cell_type": "code",
   "execution_count": null,
   "metadata": {
    "colab": {
     "base_uri": "https://localhost:8080/",
     "height": 72
    },
    "colab_type": "code",
    "id": "KTtxAnao4aFs",
    "outputId": "a45a8b52-d54d-446a-c4f6-29c019d30651"
   },
   "outputs": [],
   "source": [
    "import numpy as np #for numerical computations\n",
    "import pandas as pd #for reading the dataset\n",
    "import time #calculating the execution time\n",
    "import xlsxwriter #for writing the data to a new excel file\n",
    "import decimal #for numerical computation\n",
    "from coordinates.converter import CoordinateConverter, WGS84, L_Est97\n",
    "converter = CoordinateConverter"
   ]
  },
  {
   "cell_type": "code",
   "execution_count": null,
   "metadata": {},
   "outputs": [],
   "source": [
    "######################-----------This code is for extracting the entire trajectory data--------#################\n",
    "\n",
    "\n",
    "start_time = time.time()\n",
    "\n",
    "dataset = pd.read_csv('competition_dataset.csv') # Reads the competition dataset\n",
    "\n",
    "column_names = dataset.columns[0] \n",
    "column_names = column_names.split(\";\") # The column names are seperated\n",
    "\n",
    "workbook1 = xlsxwriter.Workbook('processed_full1.xlsx') # New excel file is created where data will be stored\n",
    "worksheet1 = workbook1.add_worksheet() # Adding a worksheet to the excel file\n",
    "\n",
    "for i in range(10):\n",
    "    if i <= 10:\n",
    "        worksheet1.write(0,i,column_names[i]) #Writing the column names to the first row\n",
    "\n",
    "worksheet1.write(0,10,'modified_lat')\n",
    "worksheet1.write(0,11,'modified_long')\n",
    "counter = 0 #Determines the row in which data has to be written\n",
    "sheet_no = 0 # Sheet No for current data writing (Because entire data cannot be accomodated to a single sheet)\n",
    "no_vehicles_in_one_sheet = 300 #(Because entire data cannot be accomodated to a single sheet)\n",
    "no_of_columns_repeated = 6 #Last six columns are repeated in the given data\n",
    "\n",
    "for i in range(len(dataset)):# Iterate through the different rows of vehicles\n",
    "    counter = counter + 1\n",
    "    \n",
    "    if int(i/no_vehicles_in_one_sheet) > sheet_no: # This condition is used to add new worksheet when \"no_vehicles_in_one_sheet\" are added\n",
    "        worksheet1 = workbook1.add_worksheet()\n",
    "        sheet_no = int(i/no_vehicles_in_one_sheet)\n",
    "        counter = 1\n",
    "        for m in range(10):\n",
    "            worksheet1.write(0,m,column_names[m]) #Writing the column names to the first row of the new sheet\n",
    "        worksheet1.write(0,10,'modified_lat')\n",
    "        worksheet1.write(0,11,'modified_long')\n",
    "    \n",
    "    row_details = dataset.iloc[i,0].split(\";\") # Extracts the details of one vehicle seperated by \";\" into a list\n",
    "    for j in range(10): # This for loop writes the first ten columns of the vehicle details\n",
    "        if j==1:\n",
    "            worksheet1.write(counter, j, row_details[j]) # This is the name of the vehicle so its data type must be string\n",
    "        elif j==4:\n",
    "            wgs_point = WGS84(lat=float(row_details[j]), long=float(row_details[j+1]))\n",
    "            temp1 = converter.wgs84_to_l_est97(wgs_point)\n",
    "            worksheet1.write(counter, j, float(row_details[j]))\n",
    "            worksheet1.write(counter, 10, temp1[0])\n",
    "        elif j==5:\n",
    "            worksheet1.write(counter, j, float(row_details[j]))\n",
    "            worksheet1.write(counter, 11, temp1[0])\n",
    "        else:\n",
    "            worksheet1.write(counter, j, float(row_details[j])) # All other details of vehicles should have data type float\n",
    "            \n",
    "    temp = -1 # This determines whether the six details of the vehicles have been written or not. If yes, the counter is incremented\n",
    "    \n",
    "    for j in range(10,len(row_details)-1): # In row_details, last element of every list is blank character. Therefore it is ignored.\n",
    "        \n",
    "        if int((j-10)/no_of_columns_repeated) > temp: # This determines whether the six details of the vehicles have been written or not. If yes, the counter is incremented\n",
    "            temp = int((j-10)/no_of_columns_repeated)\n",
    "            counter = counter + 1\n",
    "            \n",
    "        for k in range(4):\n",
    "            if k==1:\n",
    "                worksheet1.write(counter, k, row_details[k])\n",
    "            else:\n",
    "                worksheet1.write(counter, k, float(row_details[k]))\n",
    "        \n",
    "        t = (j-10)%no_of_columns_repeated + 4 # This gives the appropriate column in which the data has to be written\n",
    "        \n",
    "        if t==4:\n",
    "            wgs_point = WGS84(lat=float(row_details[j]), long=float(row_details[j+1]))\n",
    "            temp1 = converter.wgs84_to_l_est97(wgs_point)\n",
    "            worksheet1.write(counter, 10, temp1[0])\n",
    "            worksheet1.write(counter, t, float(row_details[j]))\n",
    "        elif t==5:\n",
    "            worksheet1.write(counter, t, float(row_details[j]))\n",
    "            worksheet1.write(counter, 11, temp1[1])\n",
    "        else:\n",
    "            worksheet1.write(counter, t, float(row_details[j])) # All other details of vehicles should have data type float\n",
    "\n",
    "workbook1.close()\n",
    "print('Time required for code in processing the data [s]: ', time.time() - start_time) # Prints the time required for preparing the trajectory data"
   ]
  },
  {
   "cell_type": "code",
   "execution_count": null,
   "metadata": {},
   "outputs": [],
   "source": []
  }
 ],
 "metadata": {
  "colab": {
   "name": "model-building-NN.ipynb",
   "provenance": [],
   "toc_visible": true
  },
  "kernelspec": {
   "display_name": "Python 3",
   "language": "python",
   "name": "python3"
  },
  "language_info": {
   "codemirror_mode": {
    "name": "ipython",
    "version": 3
   },
   "file_extension": ".py",
   "mimetype": "text/x-python",
   "name": "python",
   "nbconvert_exporter": "python",
   "pygments_lexer": "ipython3",
   "version": "3.7.4"
  }
 },
 "nbformat": 4,
 "nbformat_minor": 4
}
